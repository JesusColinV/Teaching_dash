{
 "cells": [
  {
   "cell_type": "code",
   "execution_count": 1,
   "metadata": {},
   "outputs": [
    {
     "name": "stdout",
     "output_type": "stream",
     "text": [
      "                                         Cliente Moneda  Línea Global  \\\n",
      "0  Core One Information Technology, s.a. de c.v.    MXN    10000000.0   \n",
      "1      Limpieza Val s.a. de c.v. (Grupo Vallejo)    MXN    10000000.0   \n",
      "2                                         SEICSA    MXN    10000000.0   \n",
      "3                                       SERVISEG    MXN    15000000.0   \n",
      "4                                           Roan    MXN     5000000.0   \n",
      "\n",
      "    Sublíneas   Producto  Monto de garantía Aforo mínimo de garantía  \\\n",
      "0   5000000.0  Factoraje         16000000.0                        1   \n",
      "1  10000000.0     Flujos         43400000.0                        2   \n",
      "2  10000000.0     Flujos                NaN                      NaN   \n",
      "3  15000000.0     Flujos                NaN                      NaN   \n",
      "4   5000000.0     Flujos                NaN                      NaN   \n",
      "\n",
      "   Aforo real de garantía Formato de domiciliación  Facturación mínima  ...  \\\n",
      "0                    3.20                      NaN                 NaN  ...   \n",
      "1                    4.34                       No           2000000.0  ...   \n",
      "2                     NaN                       No           2000000.0  ...   \n",
      "3                     NaN                       No           2000000.0  ...   \n",
      "4                     NaN                       No           1000000.0  ...   \n",
      "\n",
      "   Admin. de ingresos  Monto del contrato  Estatus de cesión  \\\n",
      "0                 STP                 NaN         Confirmada   \n",
      "1                 STP       99862884.9472         confirmada   \n",
      "2                 STP                 NaN      Por confirmar   \n",
      "3                 STP      108693643.3488         confirmada   \n",
      "4   STP/Domiciliación                 NaN         confirmada   \n",
      "\n",
      "   Cobranza mínima requerida  Estatus Facturación  \\\n",
      "0                        NaN             detenida   \n",
      "1                  2000000.0             Reducida   \n",
      "2                  2000000.0               Normal   \n",
      "3                  2000000.0             Reducida   \n",
      "4                  1000000.0             Reducida   \n",
      "\n",
      "                                     Actividad                 Sector  \\\n",
      "0                                          NaN                    NaN   \n",
      "1            Servicios de Limpieza Corporativa  Servicios de Limpieza   \n",
      "2  Servicios de Seguridad (armada y Desarmada)              Seguridad   \n",
      "3           Servicios de Seguridad (Desarmada)              Seguridad   \n",
      "4                       Transportista de carga             Transporte   \n",
      "\n",
      "        Analista Unnamed: 75  \\\n",
      "0  Jorge Mendoza         NaN   \n",
      "1  Jorge Mendoza         NaN   \n",
      "2  Jorge Mendoza         NaN   \n",
      "3  Jorge Mendoza         NaN   \n",
      "4  Jorge Mendoza         NaN   \n",
      "\n",
      "                                         Unnamed: 76  \n",
      "0                                                NaN  \n",
      "1                                                NaN  \n",
      "2  ya hay cita para la proxima semana para que pa...  \n",
      "3                                                NaN  \n",
      "4                                                NaN  \n",
      "\n",
      "[5 rows x 77 columns]\n"
     ]
    }
   ],
   "source": [
    "import pandas as pd\n",
    "df = pd.read_excel('Analisis de portafolio.xlsx')\n",
    "print(df.head())"
   ]
  },
  {
   "cell_type": "code",
   "execution_count": 2,
   "metadata": {},
   "outputs": [
    {
     "name": "stdout",
     "output_type": "stream",
     "text": [
      "Index(['Cliente', 'Moneda', 'Línea Global', 'Sublíneas', 'Producto',\n",
      "       'Monto de garantía', 'Aforo mínimo de garantía',\n",
      "       'Aforo real de garantía', 'Formato de domiciliación',\n",
      "       'Facturación mínima', 'Facturación mensual esperada',\n",
      "       'Facturación mensual real',\n",
      "       'Facturación efectiva (Facturación mensual real/Facturación mensual esperada)',\n",
      "       'Facturación acumulada Ciclo de pago',\n",
      "       'cobranza mensual real (mes inmediato anterior)',\n",
      "       'cobranza efectiva (Cobranza mensual real/Facturación mensual esperada)',\n",
      "       'Fact. X cobrar (CxC reales)', 'Aforo mínimo requerido',\n",
      "       'Aforo promedio esperado', 'Aforo real de cobranza', 'aforo de CxC',\n",
      "       'Aforo de facturacion del periodo', 'Facturacion total (compañía)',\n",
      "       'Porcentaje de ventas controladas autorizado',\n",
      "       'Porcentaje de ventas controladas real',\n",
      "       'Indice de concentracion HHI autorizado (compañía)',\n",
      "       'Indice de concentracion HHI real (compañía)',\n",
      "       'Indice de concentracion HHI autorizado (pagadores)',\n",
      "       'Indice de concentracion HHI real (pagadores)', 'Pagadores autorizados',\n",
      "       '% de pagadores contorlados', 'Apalancamiento máximo posible',\n",
      "       'Apalancamiento autorizado', 'Apalancamiento actual',\n",
      "       '% de apalancamiento (actual / autorizado)',\n",
      "       '% de Apalancamiento/ventas anuales autorizado',\n",
      "       '% de Apalancamiento/ventas anuales reales', 'Saldo en retraso',\n",
      "       '% de Retraso / saldo actual en BC', 'Días de atraso',\n",
      "       'Consultas acumuladas a la fecha (año en curso)',\n",
      "       'Amortizacion del periodo', 'Servicio de deuda del periodo',\n",
      "       'Disposiciones operadas', 'Monto dispuesto', 'Amortizado',\n",
      "       'Saldo insoluto actual', '% Saldo insoluto / monto de línea total',\n",
      "       'Monto con retraso', '% retrasado / saldo isoluto', 'Monto Vencido',\n",
      "       '% vencido / saldo isoluto', 'Reserva intereses',\n",
      "       'Vencimiento pago mensual', 'Estatus pago mensual',\n",
      "       'Dias de retraso pago mensual', 'días para elegibilidad mensualidad',\n",
      "       'Vancimiento de pagaré', 'Estaus de pagarés', 'Dias de retraso Pagaré',\n",
      "       'días para elegibilidad Pagaré', 'litigios nuevos relevantes',\n",
      "       'Incripciones nuevas en el RUG', 'Pagadores en prenda',\n",
      "       'Notificaciones de incumplimiento', 'Fondeador',\n",
      "       'ciclo de pago (meses)', 'Admin. de ingresos', 'Monto del contrato',\n",
      "       'Estatus de cesión', 'Cobranza mínima requerida', 'Estatus Facturación',\n",
      "       'Actividad', 'Sector', 'Analista', 'Unnamed: 75', 'Unnamed: 76'],\n",
      "      dtype='object')\n"
     ]
    }
   ],
   "source": [
    "print(df.columns)"
   ]
  },
  {
   "cell_type": "code",
   "execution_count": null,
   "metadata": {},
   "outputs": [],
   "source": []
  }
 ],
 "metadata": {
  "interpreter": {
   "hash": "df9eefbecc29be4ddb59704b9d158018e9d91336880ca3401aabdb3c04bd62e2"
  },
  "kernelspec": {
   "display_name": "Python 3.10.2 ('venv': venv)",
   "language": "python",
   "name": "python3"
  },
  "language_info": {
   "codemirror_mode": {
    "name": "ipython",
    "version": 3
   },
   "file_extension": ".py",
   "mimetype": "text/x-python",
   "name": "python",
   "nbconvert_exporter": "python",
   "pygments_lexer": "ipython3",
   "version": "3.10.2"
  },
  "orig_nbformat": 4
 },
 "nbformat": 4,
 "nbformat_minor": 2
}
